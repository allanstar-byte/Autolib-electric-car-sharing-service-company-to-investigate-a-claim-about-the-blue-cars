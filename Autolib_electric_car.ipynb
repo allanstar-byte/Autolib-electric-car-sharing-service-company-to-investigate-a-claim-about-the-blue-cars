{
  "nbformat": 4,
  "nbformat_minor": 0,
  "metadata": {
    "colab": {
      "name": "Autolib electric car",
      "provenance": [],
      "authorship_tag": "ABX9TyOUTp+t+BY76rszcmafwCYE",
      "include_colab_link": true
    },
    "kernelspec": {
      "name": "python3",
      "display_name": "Python 3"
    }
  },
  "cells": [
    {
      "cell_type": "markdown",
      "metadata": {
        "id": "view-in-github",
        "colab_type": "text"
      },
      "source": [
        "<a href=\"https://colab.research.google.com/github/allanstar-byte/Autolib-electric-car-sharing-service-company-to-investigate-a-claim-about-the-blue-cars/blob/main/Autolib_electric_car.ipynb\" target=\"_parent\"><img src=\"https://colab.research.google.com/assets/colab-badge.svg\" alt=\"Open In Colab\"/></a>"
      ]
    },
    {
      "cell_type": "markdown",
      "metadata": {
        "id": "cX1N1g_pklfL"
      },
      "source": [
        "# **Autolib electric car-sharing service company to investigate a claim about the blue cars**"
      ]
    },
    {
      "cell_type": "markdown",
      "metadata": {
        "id": "_z4d5ApNlnU1"
      },
      "source": [
        "## **1.importing the libraries**"
      ]
    },
    {
      "cell_type": "code",
      "metadata": {
        "id": "iuoDmOOklmT6"
      },
      "source": [
        "# Import the neccessary libarries\n",
        "import numpy as np\n",
        "import pandas as pd\n",
        "import matplotlib.pyplot as plt\n",
        "import seaborn as sns\n"
      ],
      "execution_count": 125,
      "outputs": []
    },
    {
      "cell_type": "markdown",
      "metadata": {
        "id": "pzl91iRSmBu8"
      },
      "source": [
        "## **2. Importing the dataset**"
      ]
    },
    {
      "cell_type": "code",
      "metadata": {
        "id": "5trxsC5TjqNg",
        "outputId": "b45702f2-3266-4f79-8d6b-afca3e3f8e90",
        "colab": {
          "base_uri": "https://localhost:8080/",
          "height": 241
        }
      },
      "source": [
        "auto = pd.read_csv('/content/autolib_daily_events_postal_code.csv')\n",
        "auto.head()"
      ],
      "execution_count": 126,
      "outputs": [
        {
          "output_type": "execute_result",
          "data": {
            "text/html": [
              "<div>\n",
              "<style scoped>\n",
              "    .dataframe tbody tr th:only-of-type {\n",
              "        vertical-align: middle;\n",
              "    }\n",
              "\n",
              "    .dataframe tbody tr th {\n",
              "        vertical-align: top;\n",
              "    }\n",
              "\n",
              "    .dataframe thead th {\n",
              "        text-align: right;\n",
              "    }\n",
              "</style>\n",
              "<table border=\"1\" class=\"dataframe\">\n",
              "  <thead>\n",
              "    <tr style=\"text-align: right;\">\n",
              "      <th></th>\n",
              "      <th>Postal code</th>\n",
              "      <th>date</th>\n",
              "      <th>n_daily_data_points</th>\n",
              "      <th>dayOfWeek</th>\n",
              "      <th>day_type</th>\n",
              "      <th>BlueCars_taken_sum</th>\n",
              "      <th>BlueCars_returned_sum</th>\n",
              "      <th>Utilib_taken_sum</th>\n",
              "      <th>Utilib_returned_sum</th>\n",
              "      <th>Utilib_14_taken_sum</th>\n",
              "      <th>Utilib_14_returned_sum</th>\n",
              "      <th>Slots_freed_sum</th>\n",
              "      <th>Slots_taken_sum</th>\n",
              "    </tr>\n",
              "  </thead>\n",
              "  <tbody>\n",
              "    <tr>\n",
              "      <th>0</th>\n",
              "      <td>75001</td>\n",
              "      <td>1/1/2018</td>\n",
              "      <td>1440</td>\n",
              "      <td>0</td>\n",
              "      <td>weekday</td>\n",
              "      <td>110</td>\n",
              "      <td>103</td>\n",
              "      <td>3</td>\n",
              "      <td>2</td>\n",
              "      <td>10</td>\n",
              "      <td>9</td>\n",
              "      <td>22</td>\n",
              "      <td>20</td>\n",
              "    </tr>\n",
              "    <tr>\n",
              "      <th>1</th>\n",
              "      <td>75001</td>\n",
              "      <td>1/2/2018</td>\n",
              "      <td>1438</td>\n",
              "      <td>1</td>\n",
              "      <td>weekday</td>\n",
              "      <td>98</td>\n",
              "      <td>94</td>\n",
              "      <td>1</td>\n",
              "      <td>1</td>\n",
              "      <td>8</td>\n",
              "      <td>8</td>\n",
              "      <td>23</td>\n",
              "      <td>22</td>\n",
              "    </tr>\n",
              "    <tr>\n",
              "      <th>2</th>\n",
              "      <td>75001</td>\n",
              "      <td>1/3/2018</td>\n",
              "      <td>1439</td>\n",
              "      <td>2</td>\n",
              "      <td>weekday</td>\n",
              "      <td>138</td>\n",
              "      <td>139</td>\n",
              "      <td>0</td>\n",
              "      <td>0</td>\n",
              "      <td>2</td>\n",
              "      <td>2</td>\n",
              "      <td>27</td>\n",
              "      <td>27</td>\n",
              "    </tr>\n",
              "    <tr>\n",
              "      <th>3</th>\n",
              "      <td>75001</td>\n",
              "      <td>1/4/2018</td>\n",
              "      <td>1320</td>\n",
              "      <td>3</td>\n",
              "      <td>weekday</td>\n",
              "      <td>104</td>\n",
              "      <td>104</td>\n",
              "      <td>2</td>\n",
              "      <td>2</td>\n",
              "      <td>9</td>\n",
              "      <td>8</td>\n",
              "      <td>25</td>\n",
              "      <td>21</td>\n",
              "    </tr>\n",
              "    <tr>\n",
              "      <th>4</th>\n",
              "      <td>75001</td>\n",
              "      <td>1/5/2018</td>\n",
              "      <td>1440</td>\n",
              "      <td>4</td>\n",
              "      <td>weekday</td>\n",
              "      <td>114</td>\n",
              "      <td>117</td>\n",
              "      <td>3</td>\n",
              "      <td>3</td>\n",
              "      <td>6</td>\n",
              "      <td>6</td>\n",
              "      <td>18</td>\n",
              "      <td>20</td>\n",
              "    </tr>\n",
              "  </tbody>\n",
              "</table>\n",
              "</div>"
            ],
            "text/plain": [
              "   Postal code      date  ...  Slots_freed_sum  Slots_taken_sum\n",
              "0        75001  1/1/2018  ...               22               20\n",
              "1        75001  1/2/2018  ...               23               22\n",
              "2        75001  1/3/2018  ...               27               27\n",
              "3        75001  1/4/2018  ...               25               21\n",
              "4        75001  1/5/2018  ...               18               20\n",
              "\n",
              "[5 rows x 13 columns]"
            ]
          },
          "metadata": {
            "tags": []
          },
          "execution_count": 126
        }
      ]
    },
    {
      "cell_type": "markdown",
      "metadata": {
        "id": "5DnwjGxvmvH0"
      },
      "source": [
        "## **3. Data cleaning**"
      ]
    },
    {
      "cell_type": "code",
      "metadata": {
        "id": "nBYHpuyftRXX",
        "outputId": "12b37950-253e-44bd-8f62-4241355b45e3",
        "colab": {
          "base_uri": "https://localhost:8080/"
        }
      },
      "source": [
        "# identifyin the data type\n",
        "auto.info()"
      ],
      "execution_count": 127,
      "outputs": [
        {
          "output_type": "stream",
          "text": [
            "<class 'pandas.core.frame.DataFrame'>\n",
            "RangeIndex: 16085 entries, 0 to 16084\n",
            "Data columns (total 13 columns):\n",
            " #   Column                  Non-Null Count  Dtype \n",
            "---  ------                  --------------  ----- \n",
            " 0   Postal code             16085 non-null  int64 \n",
            " 1   date                    16085 non-null  object\n",
            " 2   n_daily_data_points     16085 non-null  int64 \n",
            " 3   dayOfWeek               16085 non-null  int64 \n",
            " 4   day_type                16085 non-null  object\n",
            " 5   BlueCars_taken_sum      16085 non-null  int64 \n",
            " 6   BlueCars_returned_sum   16085 non-null  int64 \n",
            " 7   Utilib_taken_sum        16085 non-null  int64 \n",
            " 8   Utilib_returned_sum     16085 non-null  int64 \n",
            " 9   Utilib_14_taken_sum     16085 non-null  int64 \n",
            " 10  Utilib_14_returned_sum  16085 non-null  int64 \n",
            " 11  Slots_freed_sum         16085 non-null  int64 \n",
            " 12  Slots_taken_sum         16085 non-null  int64 \n",
            "dtypes: int64(11), object(2)\n",
            "memory usage: 1.6+ MB\n"
          ],
          "name": "stdout"
        }
      ]
    },
    {
      "cell_type": "markdown",
      "metadata": {
        "id": "OC6lGgzwnMPx"
      },
      "source": [
        "### **a) Consistency**"
      ]
    },
    {
      "cell_type": "code",
      "metadata": {
        "id": "_4I3IPV8m1CE"
      },
      "source": [
        "#renaing the postal code column to remove the spacing \n",
        "auto.rename(columns={'Postal code': 'Postal_code'}, inplace=True)"
      ],
      "execution_count": 128,
      "outputs": []
    },
    {
      "cell_type": "markdown",
      "metadata": {
        "id": "8Q2jGgxQn1GQ"
      },
      "source": [
        "### **b) missing data**"
      ]
    },
    {
      "cell_type": "code",
      "metadata": {
        "id": "LNDRKdnMn2Zx",
        "outputId": "afbb95d8-8574-4041-fe2f-7ffddd04fe89",
        "colab": {
          "base_uri": "https://localhost:8080/"
        }
      },
      "source": [
        "# identifying the null values\n",
        "auto.isna().sum()"
      ],
      "execution_count": 129,
      "outputs": [
        {
          "output_type": "execute_result",
          "data": {
            "text/plain": [
              "Postal_code               0\n",
              "date                      0\n",
              "n_daily_data_points       0\n",
              "dayOfWeek                 0\n",
              "day_type                  0\n",
              "BlueCars_taken_sum        0\n",
              "BlueCars_returned_sum     0\n",
              "Utilib_taken_sum          0\n",
              "Utilib_returned_sum       0\n",
              "Utilib_14_taken_sum       0\n",
              "Utilib_14_returned_sum    0\n",
              "Slots_freed_sum           0\n",
              "Slots_taken_sum           0\n",
              "dtype: int64"
            ]
          },
          "metadata": {
            "tags": []
          },
          "execution_count": 129
        }
      ]
    },
    {
      "cell_type": "markdown",
      "metadata": {
        "id": "S1SFQIamobf_"
      },
      "source": [
        "### **c) Anomalies**"
      ]
    },
    {
      "cell_type": "code",
      "metadata": {
        "id": "GWRcSdFYokKi",
        "outputId": "7a5630ed-4feb-41ed-9c4d-a7eac35fe433",
        "colab": {
          "base_uri": "https://localhost:8080/"
        }
      },
      "source": [
        "#identifying and removing duplicated values\n",
        "auto.duplicated().sum()"
      ],
      "execution_count": 130,
      "outputs": [
        {
          "output_type": "execute_result",
          "data": {
            "text/plain": [
              "0"
            ]
          },
          "metadata": {
            "tags": []
          },
          "execution_count": 130
        }
      ]
    },
    {
      "cell_type": "markdown",
      "metadata": {
        "id": "tVX1QmuqoyQJ"
      },
      "source": [
        "### **d) Outliers**"
      ]
    },
    {
      "cell_type": "code",
      "metadata": {
        "id": "Dl_hYmUvo4Ud",
        "outputId": "8602b094-f3b2-4e45-c7b9-82869adcf2ed",
        "colab": {
          "base_uri": "https://localhost:8080/"
        }
      },
      "source": [
        "# identifying outliers usin kurtosis\n",
        "auto.kurt()"
      ],
      "execution_count": 131,
      "outputs": [
        {
          "output_type": "execute_result",
          "data": {
            "text/plain": [
              "Postal_code               -0.542143\n",
              "n_daily_data_points       36.594846\n",
              "dayOfWeek                 -1.260994\n",
              "BlueCars_taken_sum         6.172692\n",
              "BlueCars_returned_sum      6.186288\n",
              "Utilib_taken_sum           7.702362\n",
              "Utilib_returned_sum        7.936357\n",
              "Utilib_14_taken_sum        7.186815\n",
              "Utilib_14_returned_sum     7.185463\n",
              "Slots_freed_sum            6.454514\n",
              "Slots_taken_sum            6.442553\n",
              "dtype: float64"
            ]
          },
          "metadata": {
            "tags": []
          },
          "execution_count": 131
        }
      ]
    },
    {
      "cell_type": "code",
      "metadata": {
        "id": "Ct1OqA3pvA0n",
        "outputId": "2be86dd5-ca7d-49b5-ef9f-99719bb5df73",
        "colab": {
          "base_uri": "https://localhost:8080/",
          "height": 1000
        }
      },
      "source": [
        "#removing outliers\n",
        "def autolib_data(df):\n",
        "    for col in df.columns:\n",
        "        print(\"capping the \",col)\n",
        "        if (((df[col].dtype)=='float64') | ((df[col].dtype)=='int64')):\n",
        "            percentiles = df[col].quantile([0.01,0.99]).values\n",
        "            df[col][df[col] <= percentiles[0]] = percentiles[0]\n",
        "            df[col][df[col] >= percentiles[1]] = percentiles[1]\n",
        "        else:\n",
        "            df[col]=df[col]\n",
        "    return df\n",
        "\n",
        "auto_1 =autolib_data(auto)\n",
        "auto_1.head()\n"
      ],
      "execution_count": 132,
      "outputs": [
        {
          "output_type": "stream",
          "text": [
            "capping the  Postal_code\n",
            "capping the  date\n",
            "capping the  n_daily_data_points\n",
            "capping the  dayOfWeek\n",
            "capping the  day_type\n",
            "capping the  BlueCars_taken_sum\n",
            "capping the  BlueCars_returned_sum\n",
            "capping the  Utilib_taken_sum\n",
            "capping the  Utilib_returned_sum\n",
            "capping the  Utilib_14_taken_sum\n",
            "capping the  Utilib_14_returned_sum\n",
            "capping the  Slots_freed_sum\n",
            "capping the  Slots_taken_sum\n"
          ],
          "name": "stdout"
        },
        {
          "output_type": "stream",
          "text": [
            "/usr/local/lib/python3.6/dist-packages/ipykernel_launcher.py:7: SettingWithCopyWarning: \n",
            "A value is trying to be set on a copy of a slice from a DataFrame\n",
            "\n",
            "See the caveats in the documentation: https://pandas.pydata.org/pandas-docs/stable/user_guide/indexing.html#returning-a-view-versus-a-copy\n",
            "  import sys\n",
            "/usr/local/lib/python3.6/dist-packages/ipykernel_launcher.py:7: SettingWithCopyWarning: \n",
            "A value is trying to be set on a copy of a slice from a DataFrame\n",
            "\n",
            "See the caveats in the documentation: https://pandas.pydata.org/pandas-docs/stable/user_guide/indexing.html#returning-a-view-versus-a-copy\n",
            "  import sys\n",
            "/usr/local/lib/python3.6/dist-packages/ipykernel_launcher.py:7: SettingWithCopyWarning: \n",
            "A value is trying to be set on a copy of a slice from a DataFrame\n",
            "\n",
            "See the caveats in the documentation: https://pandas.pydata.org/pandas-docs/stable/user_guide/indexing.html#returning-a-view-versus-a-copy\n",
            "  import sys\n",
            "/usr/local/lib/python3.6/dist-packages/ipykernel_launcher.py:7: SettingWithCopyWarning: \n",
            "A value is trying to be set on a copy of a slice from a DataFrame\n",
            "\n",
            "See the caveats in the documentation: https://pandas.pydata.org/pandas-docs/stable/user_guide/indexing.html#returning-a-view-versus-a-copy\n",
            "  import sys\n",
            "/usr/local/lib/python3.6/dist-packages/ipykernel_launcher.py:7: SettingWithCopyWarning: \n",
            "A value is trying to be set on a copy of a slice from a DataFrame\n",
            "\n",
            "See the caveats in the documentation: https://pandas.pydata.org/pandas-docs/stable/user_guide/indexing.html#returning-a-view-versus-a-copy\n",
            "  import sys\n",
            "/usr/local/lib/python3.6/dist-packages/ipykernel_launcher.py:7: SettingWithCopyWarning: \n",
            "A value is trying to be set on a copy of a slice from a DataFrame\n",
            "\n",
            "See the caveats in the documentation: https://pandas.pydata.org/pandas-docs/stable/user_guide/indexing.html#returning-a-view-versus-a-copy\n",
            "  import sys\n",
            "/usr/local/lib/python3.6/dist-packages/ipykernel_launcher.py:7: SettingWithCopyWarning: \n",
            "A value is trying to be set on a copy of a slice from a DataFrame\n",
            "\n",
            "See the caveats in the documentation: https://pandas.pydata.org/pandas-docs/stable/user_guide/indexing.html#returning-a-view-versus-a-copy\n",
            "  import sys\n",
            "/usr/local/lib/python3.6/dist-packages/ipykernel_launcher.py:7: SettingWithCopyWarning: \n",
            "A value is trying to be set on a copy of a slice from a DataFrame\n",
            "\n",
            "See the caveats in the documentation: https://pandas.pydata.org/pandas-docs/stable/user_guide/indexing.html#returning-a-view-versus-a-copy\n",
            "  import sys\n",
            "/usr/local/lib/python3.6/dist-packages/ipykernel_launcher.py:7: SettingWithCopyWarning: \n",
            "A value is trying to be set on a copy of a slice from a DataFrame\n",
            "\n",
            "See the caveats in the documentation: https://pandas.pydata.org/pandas-docs/stable/user_guide/indexing.html#returning-a-view-versus-a-copy\n",
            "  import sys\n",
            "/usr/local/lib/python3.6/dist-packages/ipykernel_launcher.py:7: SettingWithCopyWarning: \n",
            "A value is trying to be set on a copy of a slice from a DataFrame\n",
            "\n",
            "See the caveats in the documentation: https://pandas.pydata.org/pandas-docs/stable/user_guide/indexing.html#returning-a-view-versus-a-copy\n",
            "  import sys\n",
            "/usr/local/lib/python3.6/dist-packages/ipykernel_launcher.py:7: SettingWithCopyWarning: \n",
            "A value is trying to be set on a copy of a slice from a DataFrame\n",
            "\n",
            "See the caveats in the documentation: https://pandas.pydata.org/pandas-docs/stable/user_guide/indexing.html#returning-a-view-versus-a-copy\n",
            "  import sys\n"
          ],
          "name": "stderr"
        },
        {
          "output_type": "execute_result",
          "data": {
            "text/html": [
              "<div>\n",
              "<style scoped>\n",
              "    .dataframe tbody tr th:only-of-type {\n",
              "        vertical-align: middle;\n",
              "    }\n",
              "\n",
              "    .dataframe tbody tr th {\n",
              "        vertical-align: top;\n",
              "    }\n",
              "\n",
              "    .dataframe thead th {\n",
              "        text-align: right;\n",
              "    }\n",
              "</style>\n",
              "<table border=\"1\" class=\"dataframe\">\n",
              "  <thead>\n",
              "    <tr style=\"text-align: right;\">\n",
              "      <th></th>\n",
              "      <th>Postal_code</th>\n",
              "      <th>date</th>\n",
              "      <th>n_daily_data_points</th>\n",
              "      <th>dayOfWeek</th>\n",
              "      <th>day_type</th>\n",
              "      <th>BlueCars_taken_sum</th>\n",
              "      <th>BlueCars_returned_sum</th>\n",
              "      <th>Utilib_taken_sum</th>\n",
              "      <th>Utilib_returned_sum</th>\n",
              "      <th>Utilib_14_taken_sum</th>\n",
              "      <th>Utilib_14_returned_sum</th>\n",
              "      <th>Slots_freed_sum</th>\n",
              "      <th>Slots_taken_sum</th>\n",
              "    </tr>\n",
              "  </thead>\n",
              "  <tbody>\n",
              "    <tr>\n",
              "      <th>0</th>\n",
              "      <td>75002</td>\n",
              "      <td>1/1/2018</td>\n",
              "      <td>1440</td>\n",
              "      <td>0</td>\n",
              "      <td>weekday</td>\n",
              "      <td>110</td>\n",
              "      <td>103</td>\n",
              "      <td>3</td>\n",
              "      <td>2</td>\n",
              "      <td>10</td>\n",
              "      <td>9</td>\n",
              "      <td>22</td>\n",
              "      <td>20</td>\n",
              "    </tr>\n",
              "    <tr>\n",
              "      <th>1</th>\n",
              "      <td>75002</td>\n",
              "      <td>1/2/2018</td>\n",
              "      <td>1438</td>\n",
              "      <td>1</td>\n",
              "      <td>weekday</td>\n",
              "      <td>98</td>\n",
              "      <td>94</td>\n",
              "      <td>1</td>\n",
              "      <td>1</td>\n",
              "      <td>8</td>\n",
              "      <td>8</td>\n",
              "      <td>23</td>\n",
              "      <td>22</td>\n",
              "    </tr>\n",
              "    <tr>\n",
              "      <th>2</th>\n",
              "      <td>75002</td>\n",
              "      <td>1/3/2018</td>\n",
              "      <td>1439</td>\n",
              "      <td>2</td>\n",
              "      <td>weekday</td>\n",
              "      <td>138</td>\n",
              "      <td>139</td>\n",
              "      <td>0</td>\n",
              "      <td>0</td>\n",
              "      <td>2</td>\n",
              "      <td>2</td>\n",
              "      <td>27</td>\n",
              "      <td>27</td>\n",
              "    </tr>\n",
              "    <tr>\n",
              "      <th>3</th>\n",
              "      <td>75002</td>\n",
              "      <td>1/4/2018</td>\n",
              "      <td>1320</td>\n",
              "      <td>3</td>\n",
              "      <td>weekday</td>\n",
              "      <td>104</td>\n",
              "      <td>104</td>\n",
              "      <td>2</td>\n",
              "      <td>2</td>\n",
              "      <td>9</td>\n",
              "      <td>8</td>\n",
              "      <td>25</td>\n",
              "      <td>21</td>\n",
              "    </tr>\n",
              "    <tr>\n",
              "      <th>4</th>\n",
              "      <td>75002</td>\n",
              "      <td>1/5/2018</td>\n",
              "      <td>1440</td>\n",
              "      <td>4</td>\n",
              "      <td>weekday</td>\n",
              "      <td>114</td>\n",
              "      <td>117</td>\n",
              "      <td>3</td>\n",
              "      <td>3</td>\n",
              "      <td>6</td>\n",
              "      <td>6</td>\n",
              "      <td>18</td>\n",
              "      <td>20</td>\n",
              "    </tr>\n",
              "  </tbody>\n",
              "</table>\n",
              "</div>"
            ],
            "text/plain": [
              "   Postal_code      date  ...  Slots_freed_sum  Slots_taken_sum\n",
              "0        75002  1/1/2018  ...               22               20\n",
              "1        75002  1/2/2018  ...               23               22\n",
              "2        75002  1/3/2018  ...               27               27\n",
              "3        75002  1/4/2018  ...               25               21\n",
              "4        75002  1/5/2018  ...               18               20\n",
              "\n",
              "[5 rows x 13 columns]"
            ]
          },
          "metadata": {
            "tags": []
          },
          "execution_count": 132
        }
      ]
    },
    {
      "cell_type": "code",
      "metadata": {
        "id": "DrDyXl3XLWgZ",
        "outputId": "1958b623-5147-4126-b32c-52ec8299894e",
        "colab": {
          "base_uri": "https://localhost:8080/"
        }
      },
      "source": [
        "auto_1.shape"
      ],
      "execution_count": 243,
      "outputs": [
        {
          "output_type": "execute_result",
          "data": {
            "text/plain": [
              "(16085, 13)"
            ]
          },
          "metadata": {
            "tags": []
          },
          "execution_count": 243
        }
      ]
    },
    {
      "cell_type": "markdown",
      "metadata": {
        "id": "nnpKzUN8wx4e"
      },
      "source": [
        "## **4. Exploratory Data Analysis**"
      ]
    },
    {
      "cell_type": "code",
      "metadata": {
        "id": "PwMAIl0KMNjo",
        "outputId": "dd4ae33b-bc0c-4ced-adc3-0bd8184e2f83",
        "colab": {
          "base_uri": "https://localhost:8080/",
          "height": 317
        }
      },
      "source": [
        "# summary of the data\n",
        "auto.describe()"
      ],
      "execution_count": 244,
      "outputs": [
        {
          "output_type": "execute_result",
          "data": {
            "text/html": [
              "<div>\n",
              "<style scoped>\n",
              "    .dataframe tbody tr th:only-of-type {\n",
              "        vertical-align: middle;\n",
              "    }\n",
              "\n",
              "    .dataframe tbody tr th {\n",
              "        vertical-align: top;\n",
              "    }\n",
              "\n",
              "    .dataframe thead th {\n",
              "        text-align: right;\n",
              "    }\n",
              "</style>\n",
              "<table border=\"1\" class=\"dataframe\">\n",
              "  <thead>\n",
              "    <tr style=\"text-align: right;\">\n",
              "      <th></th>\n",
              "      <th>Postal_code</th>\n",
              "      <th>n_daily_data_points</th>\n",
              "      <th>dayOfWeek</th>\n",
              "      <th>BlueCars_taken_sum</th>\n",
              "      <th>BlueCars_returned_sum</th>\n",
              "      <th>Utilib_taken_sum</th>\n",
              "      <th>Utilib_returned_sum</th>\n",
              "      <th>Utilib_14_taken_sum</th>\n",
              "      <th>Utilib_14_returned_sum</th>\n",
              "      <th>Slots_freed_sum</th>\n",
              "      <th>Slots_taken_sum</th>\n",
              "    </tr>\n",
              "  </thead>\n",
              "  <tbody>\n",
              "    <tr>\n",
              "      <th>count</th>\n",
              "      <td>16085.000000</td>\n",
              "      <td>16085.000000</td>\n",
              "      <td>16085.000000</td>\n",
              "      <td>16085.000000</td>\n",
              "      <td>16085.000000</td>\n",
              "      <td>16085.000000</td>\n",
              "      <td>16085.000000</td>\n",
              "      <td>16085.000000</td>\n",
              "      <td>16085.000000</td>\n",
              "      <td>16085.000000</td>\n",
              "      <td>16085.000000</td>\n",
              "    </tr>\n",
              "    <tr>\n",
              "      <th>mean</th>\n",
              "      <td>88791.206590</td>\n",
              "      <td>1431.518122</td>\n",
              "      <td>2.969599</td>\n",
              "      <td>124.642275</td>\n",
              "      <td>124.666459</td>\n",
              "      <td>3.650233</td>\n",
              "      <td>3.649611</td>\n",
              "      <td>8.496550</td>\n",
              "      <td>8.494374</td>\n",
              "      <td>22.271309</td>\n",
              "      <td>22.290084</td>\n",
              "    </tr>\n",
              "    <tr>\n",
              "      <th>std</th>\n",
              "      <td>7647.234667</td>\n",
              "      <td>31.810943</td>\n",
              "      <td>2.008378</td>\n",
              "      <td>179.512635</td>\n",
              "      <td>179.715689</td>\n",
              "      <td>5.578208</td>\n",
              "      <td>5.578670</td>\n",
              "      <td>12.371536</td>\n",
              "      <td>12.367288</td>\n",
              "      <td>50.507009</td>\n",
              "      <td>50.608861</td>\n",
              "    </tr>\n",
              "    <tr>\n",
              "      <th>min</th>\n",
              "      <td>75002.000000</td>\n",
              "      <td>1203.000000</td>\n",
              "      <td>0.000000</td>\n",
              "      <td>1.000000</td>\n",
              "      <td>2.000000</td>\n",
              "      <td>0.000000</td>\n",
              "      <td>0.000000</td>\n",
              "      <td>0.000000</td>\n",
              "      <td>0.000000</td>\n",
              "      <td>0.000000</td>\n",
              "      <td>0.000000</td>\n",
              "    </tr>\n",
              "    <tr>\n",
              "      <th>25%</th>\n",
              "      <td>91330.000000</td>\n",
              "      <td>1439.000000</td>\n",
              "      <td>1.000000</td>\n",
              "      <td>20.000000</td>\n",
              "      <td>20.000000</td>\n",
              "      <td>0.000000</td>\n",
              "      <td>0.000000</td>\n",
              "      <td>1.000000</td>\n",
              "      <td>1.000000</td>\n",
              "      <td>0.000000</td>\n",
              "      <td>0.000000</td>\n",
              "    </tr>\n",
              "    <tr>\n",
              "      <th>50%</th>\n",
              "      <td>92340.000000</td>\n",
              "      <td>1440.000000</td>\n",
              "      <td>3.000000</td>\n",
              "      <td>46.000000</td>\n",
              "      <td>46.000000</td>\n",
              "      <td>1.000000</td>\n",
              "      <td>1.000000</td>\n",
              "      <td>3.000000</td>\n",
              "      <td>3.000000</td>\n",
              "      <td>0.000000</td>\n",
              "      <td>0.000000</td>\n",
              "    </tr>\n",
              "    <tr>\n",
              "      <th>75%</th>\n",
              "      <td>93400.000000</td>\n",
              "      <td>1440.000000</td>\n",
              "      <td>5.000000</td>\n",
              "      <td>135.000000</td>\n",
              "      <td>135.000000</td>\n",
              "      <td>4.000000</td>\n",
              "      <td>4.000000</td>\n",
              "      <td>10.000000</td>\n",
              "      <td>10.000000</td>\n",
              "      <td>5.000000</td>\n",
              "      <td>5.000000</td>\n",
              "    </tr>\n",
              "    <tr>\n",
              "      <th>max</th>\n",
              "      <td>95870.000000</td>\n",
              "      <td>1440.000000</td>\n",
              "      <td>6.000000</td>\n",
              "      <td>846.000000</td>\n",
              "      <td>852.000000</td>\n",
              "      <td>27.000000</td>\n",
              "      <td>27.000000</td>\n",
              "      <td>60.000000</td>\n",
              "      <td>60.000000</td>\n",
              "      <td>223.000000</td>\n",
              "      <td>225.000000</td>\n",
              "    </tr>\n",
              "  </tbody>\n",
              "</table>\n",
              "</div>"
            ],
            "text/plain": [
              "        Postal_code  n_daily_data_points  ...  Slots_freed_sum  Slots_taken_sum\n",
              "count  16085.000000         16085.000000  ...     16085.000000     16085.000000\n",
              "mean   88791.206590          1431.518122  ...        22.271309        22.290084\n",
              "std     7647.234667            31.810943  ...        50.507009        50.608861\n",
              "min    75002.000000          1203.000000  ...         0.000000         0.000000\n",
              "25%    91330.000000          1439.000000  ...         0.000000         0.000000\n",
              "50%    92340.000000          1440.000000  ...         0.000000         0.000000\n",
              "75%    93400.000000          1440.000000  ...         5.000000         5.000000\n",
              "max    95870.000000          1440.000000  ...       223.000000       225.000000\n",
              "\n",
              "[8 rows x 11 columns]"
            ]
          },
          "metadata": {
            "tags": []
          },
          "execution_count": 244
        }
      ]
    },
    {
      "cell_type": "markdown",
      "metadata": {
        "id": "fNlJizY7w7jR"
      },
      "source": [
        "### **i) univariate analysis**"
      ]
    },
    {
      "cell_type": "code",
      "metadata": {
        "id": "7dYzCncRw1mc",
        "outputId": "48d52d37-a10c-4927-ebc3-89e2a4188547",
        "colab": {
          "base_uri": "https://localhost:8080/",
          "height": 298
        }
      },
      "source": [
        "#grouping by the date \n",
        "auto_2 = auto_1.groupby('date').sum()\n",
        "auto_3 = auto_2.reset_index()\n",
        "auto_3\n",
        "\n",
        "# ploting te trend for the daily data points \n",
        "plt.plot(auto_3['n_daily_data_points'])\n",
        "plt.title('Daily data points')"
      ],
      "execution_count": 133,
      "outputs": [
        {
          "output_type": "execute_result",
          "data": {
            "text/plain": [
              "Text(0.5, 1.0, 'Daily data points')"
            ]
          },
          "metadata": {
            "tags": []
          },
          "execution_count": 133
        },
        {
          "output_type": "display_data",
          "data": {
            "image/png": "[encoded data removed]",
            "text/plain": [
              "<Figure size 432x288 with 1 Axes>"
            ]
          },
          "metadata": {
            "tags": [],
            "needs_background": "light"
          }
        }
      ]
    },
    {
      "cell_type": "markdown",
      "metadata": {
        "id": "t_oQR00G2J_i"
      },
      "source": [
        "the daily data points are exhibiting variations. in some cases the varions are large which may be seasonal variations. There is also a trend of the daily data moving up and down"
      ]
    },
    {
      "cell_type": "code",
      "metadata": {
        "id": "skphDjQHzqFI",
        "outputId": "fae21162-17cd-4d62-c0c2-882a463f7ba6",
        "colab": {
          "base_uri": "https://localhost:8080/",
          "height": 298
        }
      },
      "source": [
        "# plotting the trend for the blue cars\n",
        "plt.plot(auto_3['BlueCars_returned_sum'], color='red')\n",
        "plt.title('blue cars returned')"
      ],
      "execution_count": 134,
      "outputs": [
        {
          "output_type": "execute_result",
          "data": {
            "text/plain": [
              "Text(0.5, 1.0, 'blue cars returned')"
            ]
          },
          "metadata": {
            "tags": []
          },
          "execution_count": 134
        },
        {
          "output_type": "display_data",
          "data": {
            "image/png": "[encoded data removed]",
            "text/plain": [
              "<Figure size 432x288 with 1 Axes>"
            ]
          },
          "metadata": {
            "tags": [],
            "needs_background": "light"
          }
        }
      ]
    },
    {
      "cell_type": "markdown",
      "metadata": {
        "id": "97J1QTMR22yG"
      },
      "source": [
        "the blue cars are showing a trend between 1000 and 17500 count points"
      ]
    },
    {
      "cell_type": "code",
      "metadata": {
        "id": "Fs33qKD84JoK",
        "outputId": "99bf374e-f477-4b19-922e-42009848e888",
        "colab": {
          "base_uri": "https://localhost:8080/",
          "height": 1000
        }
      },
      "source": [
        "# Ploting the univariate summaries and recording our observations\n",
        "#\n",
        "col_names = ['BlueCars_returned_sum',\t'Utilib_taken_sum',\t'Utilib_returned_sum', 'Utilib_14_taken_sum',\n",
        "             'Utilib_14_returned_sum', 'Slots_freed_sum',\t'Slots_taken_sum']\n",
        "\n",
        "fig, ax = plt.subplots(len(col_names), figsize=(20,15))\n",
        "\n",
        "for i, col_val in enumerate(col_names):\n",
        "\n",
        "    sns.distplot(auto_3[col_val], hist=True, ax=ax[i])\n",
        "    ax[i].set_title('Freq dist '+col_val, fontsize=10)\n",
        "    ax[i].set_xlabel(col_val, fontsize=8)\n",
        "    ax[i].set_ylabel('Count', fontsize=8)"
      ],
      "execution_count": 135,
      "outputs": [
        {
          "output_type": "stream",
          "text": [
            "/usr/local/lib/python3.6/dist-packages/seaborn/distributions.py:2551: FutureWarning: `distplot` is a deprecated function and will be removed in a future version. Please adapt your code to use either `displot` (a figure-level function with similar flexibility) or `histplot` (an axes-level function for histograms).\n",
            "  warnings.warn(msg, FutureWarning)\n",
            "/usr/local/lib/python3.6/dist-packages/seaborn/distributions.py:2551: FutureWarning: `distplot` is a deprecated function and will be removed in a future version. Please adapt your code to use either `displot` (a figure-level function with similar flexibility) or `histplot` (an axes-level function for histograms).\n",
            "  warnings.warn(msg, FutureWarning)\n",
            "/usr/local/lib/python3.6/dist-packages/seaborn/distributions.py:2551: FutureWarning: `distplot` is a deprecated function and will be removed in a future version. Please adapt your code to use either `displot` (a figure-level function with similar flexibility) or `histplot` (an axes-level function for histograms).\n",
            "  warnings.warn(msg, FutureWarning)\n",
            "/usr/local/lib/python3.6/dist-packages/seaborn/distributions.py:2551: FutureWarning: `distplot` is a deprecated function and will be removed in a future version. Please adapt your code to use either `displot` (a figure-level function with similar flexibility) or `histplot` (an axes-level function for histograms).\n",
            "  warnings.warn(msg, FutureWarning)\n",
            "/usr/local/lib/python3.6/dist-packages/seaborn/distributions.py:2551: FutureWarning: `distplot` is a deprecated function and will be removed in a future version. Please adapt your code to use either `displot` (a figure-level function with similar flexibility) or `histplot` (an axes-level function for histograms).\n",
            "  warnings.warn(msg, FutureWarning)\n",
            "/usr/local/lib/python3.6/dist-packages/seaborn/distributions.py:2551: FutureWarning: `distplot` is a deprecated function and will be removed in a future version. Please adapt your code to use either `displot` (a figure-level function with similar flexibility) or `histplot` (an axes-level function for histograms).\n",
            "  warnings.warn(msg, FutureWarning)\n",
            "/usr/local/lib/python3.6/dist-packages/seaborn/distributions.py:2551: FutureWarning: `distplot` is a deprecated function and will be removed in a future version. Please adapt your code to use either `displot` (a figure-level function with similar flexibility) or `histplot` (an axes-level function for histograms).\n",
            "  warnings.warn(msg, FutureWarning)\n"
          ],
          "name": "stderr"
        },
        {
          "output_type": "display_data",
          "data": {
            "image/png": "[encoded data removed]",
            "text/plain": [
              "<Figure size 1440x1080 with 7 Axes>"
            ]
          },
          "metadata": {
            "tags": [],
            "needs_background": "light"
          }
        }
      ]
    },
    {
      "cell_type": "markdown",
      "metadata": {
        "id": "jn5oNNne4_2L"
      },
      "source": [
        "The dataset most of the variables are left tailed exhibiting a negative skew."
      ]
    },
    {
      "cell_type": "code",
      "metadata": {
        "id": "hikmutNGLMu2",
        "outputId": "bc06a6f0-23c9-49ef-99be-714c42945dd9",
        "colab": {
          "base_uri": "https://localhost:8080/"
        }
      },
      "source": [
        "# counting the day type that has been on peak\n",
        "print(auto_1.groupby(['day_type']).day_type.value_counts())"
      ],
      "execution_count": 136,
      "outputs": [
        {
          "output_type": "stream",
          "text": [
            "day_type  day_type\n",
            "weekday   weekday     11544\n",
            "weekend   weekend      4541\n",
            "Name: day_type, dtype: int64\n"
          ],
          "name": "stdout"
        }
      ]
    },
    {
      "cell_type": "markdown",
      "metadata": {
        "id": "hKBjgivWNNB3"
      },
      "source": [
        "week days are the ones which have the most accurences of 11544 compared to the weekends with a value count of 4542"
      ]
    },
    {
      "cell_type": "markdown",
      "metadata": {
        "id": "DKbdXZ8-5kwQ"
      },
      "source": [
        "### **ii) Bivariate analysis**"
      ]
    },
    {
      "cell_type": "code",
      "metadata": {
        "id": "ljed5JBJ_9-8",
        "outputId": "47cde5a8-8be7-4aa3-d4ec-6b56836843de",
        "colab": {
          "base_uri": "https://localhost:8080/",
          "height": 281
        }
      },
      "source": [
        "#ploting for the sum of blue cars taken over the time\n",
        "plt.figure(figsize=(25,5))\n",
        "plt.bar(auto_3['date'], auto_3['BlueCars_taken_sum'])\n",
        "plt.xlabel('date')\n",
        "plt.ylabel('su of the blue cars')"
      ],
      "execution_count": 137,
      "outputs": [
        {
          "output_type": "execute_result",
          "data": {
            "text/plain": [
              "Text(0, 0.5, 'su of the blue cars')"
            ]
          },
          "metadata": {
            "tags": []
          },
          "execution_count": 137
        },
        {
          "output_type": "display_data",
          "data": {
            "image/png": "[encoded data removed]",
            "text/plain": [
              "<Figure size 1800x360 with 1 Axes>"
            ]
          },
          "metadata": {
            "tags": [],
            "needs_background": "light"
          }
        }
      ]
    },
    {
      "cell_type": "markdown",
      "metadata": {
        "id": "5jrY2IvhBM3K"
      },
      "source": [
        "The sum of cars taken show some consistecy over the period. it only shows few points with extreme low and high cases"
      ]
    },
    {
      "cell_type": "code",
      "metadata": {
        "id": "oOKwgHh4BqsJ",
        "outputId": "f675e47a-d2c0-4868-f972-7a31348704a5",
        "colab": {
          "base_uri": "https://localhost:8080/",
          "height": 296
        }
      },
      "source": [
        "# examining relationship between the blue cars taken and the space freed\n",
        "plt.scatter(auto_3['BlueCars_taken_sum'], auto_3['Slots_freed_sum'], color='green')\n",
        "plt.xlabel('blue cars taken')\n",
        "plt.ylabel('slota freed')"
      ],
      "execution_count": 138,
      "outputs": [
        {
          "output_type": "execute_result",
          "data": {
            "text/plain": [
              "Text(0, 0.5, 'slota freed')"
            ]
          },
          "metadata": {
            "tags": []
          },
          "execution_count": 138
        },
        {
          "output_type": "display_data",
          "data": {
            "image/png": "[encoded data removed]",
            "text/plain": [
              "<Figure size 432x288 with 1 Axes>"
            ]
          },
          "metadata": {
            "tags": [],
            "needs_background": "light"
          }
        }
      ]
    },
    {
      "cell_type": "markdown",
      "metadata": {
        "id": "oH47UkPZCYMY"
      },
      "source": [
        "There is a correlation between the blue cars taken and the slots freed\n",
        " "
      ]
    },
    {
      "cell_type": "markdown",
      "metadata": {
        "id": "5nlX4G6cR8_P"
      },
      "source": [
        "## **5. Hypothesis testing**"
      ]
    },
    {
      "cell_type": "markdown",
      "metadata": {
        "id": "myjKYFIsiU4-"
      },
      "source": [
        "### **a)Normalty test**"
      ]
    },
    {
      "cell_type": "markdown",
      "metadata": {
        "id": "IkCs_YJ1lWS3"
      },
      "source": [
        "For the normality test the hypothesis will be:\n",
        "\n",
        "Ho = the data is normally distributed\n",
        "\n",
        "H1 = the data is not normally distributed"
      ]
    },
    {
      "cell_type": "markdown",
      "metadata": {
        "id": "3IkKZ73cSLD6"
      },
      "source": [
        "\n",
        "#### **i) Normality test using Shapiro- Wilk Test: tests if data is normally distributed**"
      ]
    },
    {
      "cell_type": "markdown",
      "metadata": {
        "id": "a8XUqVSUZG4C"
      },
      "source": [
        "Assumption: Observations are identically distributed that is, all the observations have an equal probability to occur"
      ]
    },
    {
      "cell_type": "code",
      "metadata": {
        "id": "QZEPl0r4fAO_",
        "outputId": "fcca2f48-1518-4b02-a6ca-84ce6764ff3e",
        "colab": {
          "base_uri": "https://localhost:8080/",
          "height": 224
        }
      },
      "source": [
        "# doing a single out of the weekdays only\n",
        "auto_n = auto_1.loc[auto_1['day_type'] == 'weekday']\n",
        "r = auto_n.groupby('date').sum()\n",
        "#reseting the index\n",
        "autol = r.reset_index()\n",
        "autol.head()"
      ],
      "execution_count": 163,
      "outputs": [
        {
          "output_type": "execute_result",
          "data": {
            "text/html": [
              "<div>\n",
              "<style scoped>\n",
              "    .dataframe tbody tr th:only-of-type {\n",
              "        vertical-align: middle;\n",
              "    }\n",
              "\n",
              "    .dataframe tbody tr th {\n",
              "        vertical-align: top;\n",
              "    }\n",
              "\n",
              "    .dataframe thead th {\n",
              "        text-align: right;\n",
              "    }\n",
              "</style>\n",
              "<table border=\"1\" class=\"dataframe\">\n",
              "  <thead>\n",
              "    <tr style=\"text-align: right;\">\n",
              "      <th></th>\n",
              "      <th>date</th>\n",
              "      <th>Postal_code</th>\n",
              "      <th>n_daily_data_points</th>\n",
              "      <th>dayOfWeek</th>\n",
              "      <th>BlueCars_taken_sum</th>\n",
              "      <th>BlueCars_returned_sum</th>\n",
              "      <th>Utilib_taken_sum</th>\n",
              "      <th>Utilib_returned_sum</th>\n",
              "      <th>Utilib_14_taken_sum</th>\n",
              "      <th>Utilib_14_returned_sum</th>\n",
              "      <th>Slots_freed_sum</th>\n",
              "      <th>Slots_taken_sum</th>\n",
              "    </tr>\n",
              "  </thead>\n",
              "  <tbody>\n",
              "    <tr>\n",
              "      <th>0</th>\n",
              "      <td>1/1/2018</td>\n",
              "      <td>9144919</td>\n",
              "      <td>148320</td>\n",
              "      <td>0</td>\n",
              "      <td>12282</td>\n",
              "      <td>12284</td>\n",
              "      <td>372</td>\n",
              "      <td>369</td>\n",
              "      <td>866</td>\n",
              "      <td>841</td>\n",
              "      <td>1964</td>\n",
              "      <td>1951</td>\n",
              "    </tr>\n",
              "    <tr>\n",
              "      <th>1</th>\n",
              "      <td>1/10/2018</td>\n",
              "      <td>9144919</td>\n",
              "      <td>148320</td>\n",
              "      <td>206</td>\n",
              "      <td>11637</td>\n",
              "      <td>11582</td>\n",
              "      <td>341</td>\n",
              "      <td>337</td>\n",
              "      <td>768</td>\n",
              "      <td>773</td>\n",
              "      <td>1949</td>\n",
              "      <td>1924</td>\n",
              "    </tr>\n",
              "    <tr>\n",
              "      <th>2</th>\n",
              "      <td>1/11/2018</td>\n",
              "      <td>9144919</td>\n",
              "      <td>148320</td>\n",
              "      <td>309</td>\n",
              "      <td>11713</td>\n",
              "      <td>11769</td>\n",
              "      <td>355</td>\n",
              "      <td>354</td>\n",
              "      <td>738</td>\n",
              "      <td>746</td>\n",
              "      <td>1982</td>\n",
              "      <td>1990</td>\n",
              "    </tr>\n",
              "    <tr>\n",
              "      <th>3</th>\n",
              "      <td>1/12/2018</td>\n",
              "      <td>9144919</td>\n",
              "      <td>148217</td>\n",
              "      <td>412</td>\n",
              "      <td>13064</td>\n",
              "      <td>12924</td>\n",
              "      <td>359</td>\n",
              "      <td>356</td>\n",
              "      <td>845</td>\n",
              "      <td>822</td>\n",
              "      <td>2156</td>\n",
              "      <td>2158</td>\n",
              "    </tr>\n",
              "    <tr>\n",
              "      <th>4</th>\n",
              "      <td>1/15/2018</td>\n",
              "      <td>9144919</td>\n",
              "      <td>148320</td>\n",
              "      <td>0</td>\n",
              "      <td>11390</td>\n",
              "      <td>11461</td>\n",
              "      <td>343</td>\n",
              "      <td>347</td>\n",
              "      <td>789</td>\n",
              "      <td>796</td>\n",
              "      <td>1884</td>\n",
              "      <td>1852</td>\n",
              "    </tr>\n",
              "  </tbody>\n",
              "</table>\n",
              "</div>"
            ],
            "text/plain": [
              "        date  Postal_code  ...  Slots_freed_sum  Slots_taken_sum\n",
              "0   1/1/2018      9144919  ...             1964             1951\n",
              "1  1/10/2018      9144919  ...             1949             1924\n",
              "2  1/11/2018      9144919  ...             1982             1990\n",
              "3  1/12/2018      9144919  ...             2156             2158\n",
              "4  1/15/2018      9144919  ...             1884             1852\n",
              "\n",
              "[5 rows x 12 columns]"
            ]
          },
          "metadata": {
            "tags": []
          },
          "execution_count": 163
        }
      ]
    },
    {
      "cell_type": "code",
      "metadata": {
        "id": "AyfXoySdWukH",
        "outputId": "b0e05e9b-ae2f-4363-ee74-f35091810b4b",
        "colab": {
          "base_uri": "https://localhost:8080/",
          "height": 265
        }
      },
      "source": [
        "#plotting histogram for the bluecars taken\n",
        "from matplotlib import pyplot\n",
        "pyplot.hist(autol['BlueCars_taken_sum'])\n",
        "pyplot.show()"
      ],
      "execution_count": 164,
      "outputs": [
        {
          "output_type": "display_data",
          "data": {
            "image/png": "[encoded data removed]",
            "text/plain": [
              "<Figure size 432x288 with 1 Axes>"
            ]
          },
          "metadata": {
            "tags": [],
            "needs_background": "light"
          }
        }
      ]
    },
    {
      "cell_type": "markdown",
      "metadata": {
        "id": "aJKb9cd8axPw"
      },
      "source": [
        "from the histogram the data is not normally distributed since its right skewed. Its should have been symetric around the mean. To prove this we will use shapiro wilk test in the code below"
      ]
    },
    {
      "cell_type": "code",
      "metadata": {
        "id": "F27GJq03bXrx",
        "outputId": "dc1e7f3d-5785-4b9c-c54b-bf5776bb2513",
        "colab": {
          "base_uri": "https://localhost:8080/"
        }
      },
      "source": [
        "#conducting the shapiro wilk test\n",
        "from scipy.stats import shapiro\n",
        "\n",
        "dataTested = auto_3['BlueCars_taken_sum']\n",
        "\n",
        "stat, p = shapiro(dataTested)\n",
        "print('stat-%.2f, p-%.30f' % (stat, p))\n",
        "#specifying by using a alpha value of 5%\n",
        "if p > 0.05:\n",
        "  print('Normal distribution')\n",
        "else:\n",
        "  print('Not a normal ditribution')\n"
      ],
      "execution_count": 246,
      "outputs": [
        {
          "output_type": "stream",
          "text": [
            "stat-0.87, p-0.000000000136620256774300230518\n",
            "Not a normal ditribution\n"
          ],
          "name": "stdout"
        }
      ]
    },
    {
      "cell_type": "markdown",
      "metadata": {
        "id": "SgpPTy_Ucuee"
      },
      "source": [
        "From the shapiro wilk test we have proved that the data is not normally distributed having a very low p-value of 0.000000000136620256774300230518 and hence not a normal distribution. Thus the alternative hypothesis is adopted."
      ]
    },
    {
      "cell_type": "code",
      "metadata": {
        "id": "z7ZpZNBxdLAa",
        "outputId": "769da437-5600-4cbf-96c8-e3adae7a1311",
        "colab": {
          "base_uri": "https://localhost:8080/"
        }
      },
      "source": [
        "# generatin a normally distributed data from python\n",
        "from numpy.random import randn\n",
        "dataTested = randn(100)\n",
        "dataTested"
      ],
      "execution_count": 166,
      "outputs": [
        {
          "output_type": "execute_result",
          "data": {
            "text/plain": [
              "array([ 0.08560057,  1.11797212, -0.20139301,  0.2117387 ,  1.07998627,\n",
              "        0.52030972,  0.76006363,  0.42266537, -0.27841848,  0.79936119,\n",
              "        1.38856199,  0.83886697, -0.93140402, -2.35330269,  0.50129586,\n",
              "       -1.55021625,  0.09057774,  1.61990887,  0.94422586, -0.85518748,\n",
              "        0.13218898,  0.47274405,  0.07116797,  1.33555533, -0.70998448,\n",
              "       -0.88195168,  0.3944867 ,  0.48550533,  2.47440525,  0.29636534,\n",
              "       -0.14749605, -1.16196211,  0.23941798,  0.85408688, -0.63583765,\n",
              "        1.19958276,  0.06892892, -0.91098443,  1.41239756,  0.37305405,\n",
              "        0.65746512, -0.68653895, -0.09826962, -1.41704718, -0.38525639,\n",
              "       -0.53121921,  0.77463473,  1.42879248,  0.3579875 , -0.38607858,\n",
              "       -2.44889423,  2.02498193,  0.32896803, -1.28627228,  0.41817285,\n",
              "       -0.36108387,  0.19426194, -0.10134298, -0.77189285, -1.2161694 ,\n",
              "        0.78695441, -0.31466575, -0.02471199, -0.32608969, -1.30300624,\n",
              "        0.60813604, -0.6213867 ,  1.0724338 ,  0.14738137, -0.58678213,\n",
              "        1.34619699, -1.21967239, -1.68890471, -0.13636236,  1.35449076,\n",
              "       -0.62368348,  0.55263307, -1.16127293,  0.90776129, -1.65658895,\n",
              "        0.0130866 ,  0.38738296, -0.31322015, -0.80483458,  0.05391073,\n",
              "       -0.85767331,  1.24751682,  1.22279708,  0.60413719,  0.83481206,\n",
              "       -1.1734737 , -0.19731401,  1.38972301, -0.83951906,  1.35822372,\n",
              "        0.3147846 , -0.98067579, -0.21972391,  0.32967319, -0.66035608])"
            ]
          },
          "metadata": {
            "tags": []
          },
          "execution_count": 166
        }
      ]
    },
    {
      "cell_type": "code",
      "metadata": {
        "id": "62z93lHHdsN_",
        "outputId": "fde423c0-95b5-4920-9b26-e895636f9713",
        "colab": {
          "base_uri": "https://localhost:8080/"
        }
      },
      "source": [
        "#using the shapiro wilk test to test the norally distributed \n",
        "#random variables using randn\n",
        "stat, p = shapiro(dataTested)\n",
        "print('stat-%.2f, p-%.30f' % (stat, p))\n",
        "#specifying by using a alpha value of 5%\n",
        "if p > 0.05:\n",
        "  print('Normal distribution')\n",
        "else:\n",
        "  print('Not a normal ditribution')"
      ],
      "execution_count": 167,
      "outputs": [
        {
          "output_type": "stream",
          "text": [
            "stat-0.99, p-0.836647212505340576171875000000\n",
            "Normal distribution\n"
          ],
          "name": "stdout"
        }
      ]
    },
    {
      "cell_type": "markdown",
      "metadata": {
        "id": "FWOHY9znePiI"
      },
      "source": [
        "at this point the p-value increases proving a normal distribution thus the null hypothesis is true (the data is normally distributed)"
      ]
    },
    {
      "cell_type": "markdown",
      "metadata": {
        "id": "2gkNaKDmiyKI"
      },
      "source": [
        "#### **ii) Normality test using K^2 Normality Test: test if the data is normally distributed**"
      ]
    },
    {
      "cell_type": "markdown",
      "metadata": {
        "id": "sTjRqL2vkgw9"
      },
      "source": [
        "Assumption: Observations are identically distributed"
      ]
    },
    {
      "cell_type": "code",
      "metadata": {
        "id": "qaYslzC4jTcg",
        "outputId": "a069173d-9c0d-4cd1-d9e9-57d30ac21167",
        "colab": {
          "base_uri": "https://localhost:8080/"
        }
      },
      "source": [
        "# D'Agostino's K^2 normality test\n",
        "from scipy.stats import  normaltest\n",
        "data = autol['BlueCars_taken_sum']\n",
        "\n",
        "stat, p = normaltest(data)\n",
        "print('stat-%.2f, p-%.30f' % (stat, p))\n",
        "#specifying by using a alpha value of 5%\n",
        "if p > 0.05:\n",
        "  print('Normal distribution')\n",
        "else:\n",
        "  print('Not a normal ditribution')"
      ],
      "execution_count": 169,
      "outputs": [
        {
          "output_type": "stream",
          "text": [
            "stat-142.43, p-0.000000000000000000000000000000\n",
            "Not a normal ditribution\n"
          ],
          "name": "stdout"
        }
      ]
    },
    {
      "cell_type": "markdown",
      "metadata": {
        "id": "XbcmcC6nlAId"
      },
      "source": [
        "### **b) Correlation test**"
      ]
    },
    {
      "cell_type": "markdown",
      "metadata": {
        "id": "8Fd7lCS5odja"
      },
      "source": [
        "the hypothesis for the correlation will be:\n",
        "\n",
        "Ho = there is no correlation between the blue cars taken and the slots freed\n",
        "\n",
        "H1 = there is a correlation between the blue cars taken and the slots freed"
      ]
    },
    {
      "cell_type": "markdown",
      "metadata": {
        "id": "mn2fVNndmBIN"
      },
      "source": [
        "Assumption: Identical and normal distribution"
      ]
    },
    {
      "cell_type": "code",
      "metadata": {
        "id": "6o7u6LxXlKH2",
        "outputId": "fa62c941-ec1a-4783-880c-80d8d7cc25ec",
        "colab": {
          "base_uri": "https://localhost:8080/",
          "height": 265
        }
      },
      "source": [
        "#plotting for the blue cars taken and the Slots_freed_sum\n",
        "sample_1 = autol[1:30]['BlueCars_taken_sum']\n",
        "sample_2 = autol[1:30]['Slots_freed_sum']\n",
        "\n",
        "pyplot.plot(sample_1, sample_2)\n",
        "pyplot.show()"
      ],
      "execution_count": 173,
      "outputs": [
        {
          "output_type": "display_data",
          "data": {
            "image/png": "[encoded data removed]",
            "text/plain": [
              "<Figure size 432x288 with 1 Axes>"
            ]
          },
          "metadata": {
            "tags": [],
            "needs_background": "light"
          }
        }
      ]
    },
    {
      "cell_type": "markdown",
      "metadata": {
        "id": "3ywWlCvanBfL"
      },
      "source": [
        "there is no clear picture to deduce soe conclusions, for more clarity we will use the spearman rank correlation \n"
      ]
    },
    {
      "cell_type": "markdown",
      "metadata": {
        "id": "15sXl2dDrUBb"
      },
      "source": [
        "#### **spearmans rank correlation**"
      ]
    },
    {
      "cell_type": "code",
      "metadata": {
        "id": "jrg3no3XnocE",
        "outputId": "7934ae2a-912c-44bb-d68a-47b19220b571",
        "colab": {
          "base_uri": "https://localhost:8080/"
        }
      },
      "source": [
        "#spearmans rank correlation\n",
        "from scipy.stats import spearmanr\n",
        "stat, p = spearmanr(sample_1, sample_2)\n",
        "\n",
        "print('stat-%.2f, p-%.30f' % (stat, p))\n",
        "#specifying by using a alpha value of 5%\n",
        "if p > 0.05:\n",
        "  print('independent samples')\n",
        "else:\n",
        "  print('dependent samples')"
      ],
      "execution_count": 174,
      "outputs": [
        {
          "output_type": "stream",
          "text": [
            "stat-0.80, p-0.000000242460231543382547268951\n",
            "dependent samples\n"
          ],
          "name": "stdout"
        }
      ]
    },
    {
      "cell_type": "markdown",
      "metadata": {
        "id": "2oKcIqmypC6k"
      },
      "source": [
        "the spersmans correlation proves that there is a correlation between the blue cars taken and the slots freed thus adopt the null hypothesis, since the p value is very low 0.000000242460231543382547268951"
      ]
    },
    {
      "cell_type": "code",
      "metadata": {
        "id": "mzceE98epZ0G",
        "outputId": "07a34c98-bb45-4078-de4e-806c7177f524",
        "colab": {
          "base_uri": "https://localhost:8080/",
          "height": 410
        }
      },
      "source": [
        "# the corelation matrix for the entire dataset\n",
        "autol[1:30].corr(method='pearson')"
      ],
      "execution_count": 175,
      "outputs": [
        {
          "output_type": "execute_result",
          "data": {
            "text/html": [
              "<div>\n",
              "<style scoped>\n",
              "    .dataframe tbody tr th:only-of-type {\n",
              "        vertical-align: middle;\n",
              "    }\n",
              "\n",
              "    .dataframe tbody tr th {\n",
              "        vertical-align: top;\n",
              "    }\n",
              "\n",
              "    .dataframe thead th {\n",
              "        text-align: right;\n",
              "    }\n",
              "</style>\n",
              "<table border=\"1\" class=\"dataframe\">\n",
              "  <thead>\n",
              "    <tr style=\"text-align: right;\">\n",
              "      <th></th>\n",
              "      <th>Postal_code</th>\n",
              "      <th>n_daily_data_points</th>\n",
              "      <th>dayOfWeek</th>\n",
              "      <th>BlueCars_taken_sum</th>\n",
              "      <th>BlueCars_returned_sum</th>\n",
              "      <th>Utilib_taken_sum</th>\n",
              "      <th>Utilib_returned_sum</th>\n",
              "      <th>Utilib_14_taken_sum</th>\n",
              "      <th>Utilib_14_returned_sum</th>\n",
              "      <th>Slots_freed_sum</th>\n",
              "      <th>Slots_taken_sum</th>\n",
              "    </tr>\n",
              "  </thead>\n",
              "  <tbody>\n",
              "    <tr>\n",
              "      <th>Postal_code</th>\n",
              "      <td>1.000000</td>\n",
              "      <td>0.190754</td>\n",
              "      <td>0.007688</td>\n",
              "      <td>-0.047486</td>\n",
              "      <td>-0.049504</td>\n",
              "      <td>-0.110018</td>\n",
              "      <td>-0.173631</td>\n",
              "      <td>0.083053</td>\n",
              "      <td>0.079868</td>\n",
              "      <td>0.068595</td>\n",
              "      <td>0.079036</td>\n",
              "    </tr>\n",
              "    <tr>\n",
              "      <th>n_daily_data_points</th>\n",
              "      <td>0.190754</td>\n",
              "      <td>1.000000</td>\n",
              "      <td>-0.152022</td>\n",
              "      <td>0.339729</td>\n",
              "      <td>0.342363</td>\n",
              "      <td>0.208976</td>\n",
              "      <td>0.119859</td>\n",
              "      <td>0.389895</td>\n",
              "      <td>0.382942</td>\n",
              "      <td>0.387039</td>\n",
              "      <td>0.378380</td>\n",
              "    </tr>\n",
              "    <tr>\n",
              "      <th>dayOfWeek</th>\n",
              "      <td>0.007688</td>\n",
              "      <td>-0.152022</td>\n",
              "      <td>1.000000</td>\n",
              "      <td>0.724035</td>\n",
              "      <td>0.709179</td>\n",
              "      <td>0.485841</td>\n",
              "      <td>0.477332</td>\n",
              "      <td>0.509751</td>\n",
              "      <td>0.490299</td>\n",
              "      <td>0.499640</td>\n",
              "      <td>0.498129</td>\n",
              "    </tr>\n",
              "    <tr>\n",
              "      <th>BlueCars_taken_sum</th>\n",
              "      <td>-0.047486</td>\n",
              "      <td>0.339729</td>\n",
              "      <td>0.724035</td>\n",
              "      <td>1.000000</td>\n",
              "      <td>0.997185</td>\n",
              "      <td>0.693145</td>\n",
              "      <td>0.662105</td>\n",
              "      <td>0.846788</td>\n",
              "      <td>0.827748</td>\n",
              "      <td>0.877675</td>\n",
              "      <td>0.866467</td>\n",
              "    </tr>\n",
              "    <tr>\n",
              "      <th>BlueCars_returned_sum</th>\n",
              "      <td>-0.049504</td>\n",
              "      <td>0.342363</td>\n",
              "      <td>0.709179</td>\n",
              "      <td>0.997185</td>\n",
              "      <td>1.000000</td>\n",
              "      <td>0.694884</td>\n",
              "      <td>0.666924</td>\n",
              "      <td>0.850262</td>\n",
              "      <td>0.834134</td>\n",
              "      <td>0.880555</td>\n",
              "      <td>0.870148</td>\n",
              "    </tr>\n",
              "    <tr>\n",
              "      <th>Utilib_taken_sum</th>\n",
              "      <td>-0.110018</td>\n",
              "      <td>0.208976</td>\n",
              "      <td>0.485841</td>\n",
              "      <td>0.693145</td>\n",
              "      <td>0.694884</td>\n",
              "      <td>1.000000</td>\n",
              "      <td>0.986355</td>\n",
              "      <td>0.629003</td>\n",
              "      <td>0.618784</td>\n",
              "      <td>0.535234</td>\n",
              "      <td>0.523041</td>\n",
              "    </tr>\n",
              "    <tr>\n",
              "      <th>Utilib_returned_sum</th>\n",
              "      <td>-0.173631</td>\n",
              "      <td>0.119859</td>\n",
              "      <td>0.477332</td>\n",
              "      <td>0.662105</td>\n",
              "      <td>0.666924</td>\n",
              "      <td>0.986355</td>\n",
              "      <td>1.000000</td>\n",
              "      <td>0.578804</td>\n",
              "      <td>0.574087</td>\n",
              "      <td>0.490742</td>\n",
              "      <td>0.474871</td>\n",
              "    </tr>\n",
              "    <tr>\n",
              "      <th>Utilib_14_taken_sum</th>\n",
              "      <td>0.083053</td>\n",
              "      <td>0.389895</td>\n",
              "      <td>0.509751</td>\n",
              "      <td>0.846788</td>\n",
              "      <td>0.850262</td>\n",
              "      <td>0.629003</td>\n",
              "      <td>0.578804</td>\n",
              "      <td>1.000000</td>\n",
              "      <td>0.994197</td>\n",
              "      <td>0.802465</td>\n",
              "      <td>0.801333</td>\n",
              "    </tr>\n",
              "    <tr>\n",
              "      <th>Utilib_14_returned_sum</th>\n",
              "      <td>0.079868</td>\n",
              "      <td>0.382942</td>\n",
              "      <td>0.490299</td>\n",
              "      <td>0.827748</td>\n",
              "      <td>0.834134</td>\n",
              "      <td>0.618784</td>\n",
              "      <td>0.574087</td>\n",
              "      <td>0.994197</td>\n",
              "      <td>1.000000</td>\n",
              "      <td>0.784863</td>\n",
              "      <td>0.782529</td>\n",
              "    </tr>\n",
              "    <tr>\n",
              "      <th>Slots_freed_sum</th>\n",
              "      <td>0.068595</td>\n",
              "      <td>0.387039</td>\n",
              "      <td>0.499640</td>\n",
              "      <td>0.877675</td>\n",
              "      <td>0.880555</td>\n",
              "      <td>0.535234</td>\n",
              "      <td>0.490742</td>\n",
              "      <td>0.802465</td>\n",
              "      <td>0.784863</td>\n",
              "      <td>1.000000</td>\n",
              "      <td>0.997484</td>\n",
              "    </tr>\n",
              "    <tr>\n",
              "      <th>Slots_taken_sum</th>\n",
              "      <td>0.079036</td>\n",
              "      <td>0.378380</td>\n",
              "      <td>0.498129</td>\n",
              "      <td>0.866467</td>\n",
              "      <td>0.870148</td>\n",
              "      <td>0.523041</td>\n",
              "      <td>0.474871</td>\n",
              "      <td>0.801333</td>\n",
              "      <td>0.782529</td>\n",
              "      <td>0.997484</td>\n",
              "      <td>1.000000</td>\n",
              "    </tr>\n",
              "  </tbody>\n",
              "</table>\n",
              "</div>"
            ],
            "text/plain": [
              "                        Postal_code  ...  Slots_taken_sum\n",
              "Postal_code                1.000000  ...         0.079036\n",
              "n_daily_data_points        0.190754  ...         0.378380\n",
              "dayOfWeek                  0.007688  ...         0.498129\n",
              "BlueCars_taken_sum        -0.047486  ...         0.866467\n",
              "BlueCars_returned_sum     -0.049504  ...         0.870148\n",
              "Utilib_taken_sum          -0.110018  ...         0.523041\n",
              "Utilib_returned_sum       -0.173631  ...         0.474871\n",
              "Utilib_14_taken_sum        0.083053  ...         0.801333\n",
              "Utilib_14_returned_sum     0.079868  ...         0.782529\n",
              "Slots_freed_sum            0.068595  ...         0.997484\n",
              "Slots_taken_sum            0.079036  ...         1.000000\n",
              "\n",
              "[11 rows x 11 columns]"
            ]
          },
          "metadata": {
            "tags": []
          },
          "execution_count": 175
        }
      ]
    },
    {
      "cell_type": "markdown",
      "metadata": {
        "id": "0X3rYqrvsJNi"
      },
      "source": [
        "### **c) Parametric test**"
      ]
    },
    {
      "cell_type": "markdown",
      "metadata": {
        "id": "Qe29Bgj6vxEu"
      },
      "source": [
        "####**i) T Test**"
      ]
    },
    {
      "cell_type": "markdown",
      "metadata": {
        "id": "gmLip82qv7G6"
      },
      "source": [
        "##### **One-Sample T-test**"
      ]
    },
    {
      "cell_type": "markdown",
      "metadata": {
        "id": "pfHaniobyu42"
      },
      "source": [
        "Ho = there is no difference between the sample and the population\n",
        "\n",
        "H1 = there is a difference between the sample and the population"
      ]
    },
    {
      "cell_type": "markdown",
      "metadata": {
        "id": "7FFQ6iIgwQd2"
      },
      "source": [
        "The test will tell us whether means of the sample and the population are different"
      ]
    },
    {
      "cell_type": "code",
      "metadata": {
        "id": "_XwXO7VUsnLR"
      },
      "source": [
        "#selectin the blue cars taken\n",
        "blue_c = autol['BlueCars_taken_sum']"
      ],
      "execution_count": 177,
      "outputs": []
    },
    {
      "cell_type": "code",
      "metadata": {
        "id": "3J8NoO79w1lQ",
        "outputId": "246cacd6-2cc9-427b-f0e1-81da0cf066ec",
        "colab": {
          "base_uri": "https://localhost:8080/"
        }
      },
      "source": [
        "#obtaining the mean \n",
        "blue_mean = np.mean(blue_c)\n",
        "blue_mean"
      ],
      "execution_count": 179,
      "outputs": [
        {
          "output_type": "execute_result",
          "data": {
            "text/plain": [
              "11919.88392857143"
            ]
          },
          "metadata": {
            "tags": []
          },
          "execution_count": 179
        }
      ]
    },
    {
      "cell_type": "code",
      "metadata": {
        "id": "-vYiHFMNxLi4",
        "outputId": "074ef653-d0cc-49e5-c38e-4b283e20587c",
        "colab": {
          "base_uri": "https://localhost:8080/"
        }
      },
      "source": [
        "# taking a random sample\n",
        "sample_size = 100\n",
        "blue_sample = np.random.choice(blue_c, sample_size)\n",
        "blue_sample"
      ],
      "execution_count": 182,
      "outputs": [
        {
          "output_type": "execute_result",
          "data": {
            "text/plain": [
              "array([11870, 11361, 11726, 11304, 10982, 13494, 13167, 12422, 12120,\n",
              "       11303, 12562, 11042, 12305, 12763, 10158, 11474, 12766, 13233,\n",
              "       12953, 12847, 11848, 13233, 11422, 12930, 11564, 11587, 13120,\n",
              "       12375, 11608, 10727, 11474, 13859, 11585, 11456, 12344, 11060,\n",
              "       12729, 12592, 11564, 11585, 11361, 11848, 11848, 11608, 11292,\n",
              "       12953, 11304, 12953, 10832, 12766, 11541, 10886, 13494, 12189,\n",
              "       12282, 12930, 13859, 11292, 10057, 12560, 11826, 11136, 10260,\n",
              "       12561, 10170, 13725, 13167, 12305, 11390, 13520, 12128, 11587,\n",
              "       12329, 12128, 10057, 13064, 13446, 12700, 11781, 11422, 11292,\n",
              "         800, 10727, 12405, 12700, 11826, 12305, 12847, 10982, 13013,\n",
              "       12555, 10832, 12953, 12375, 10889, 13282, 11042, 11587, 12555,\n",
              "       13253])"
            ]
          },
          "metadata": {
            "tags": []
          },
          "execution_count": 182
        }
      ]
    },
    {
      "cell_type": "code",
      "metadata": {
        "id": "SdC6zoxgxz1e",
        "outputId": "7c77498b-8b56-465e-e3e3-e08469cfceef",
        "colab": {
          "base_uri": "https://localhost:8080/"
        }
      },
      "source": [
        "#cunducting the ttest\n",
        "from scipy.stats import ttest_1samp\n",
        "\n",
        "ttest, p_value = ttest_1samp(blue_sample, 11919)\n",
        "p_value"
      ],
      "execution_count": 192,
      "outputs": [
        {
          "output_type": "execute_result",
          "data": {
            "text/plain": [
              "0.923813815922726"
            ]
          },
          "metadata": {
            "tags": []
          },
          "execution_count": 192
        }
      ]
    },
    {
      "cell_type": "markdown",
      "metadata": {
        "id": "kKuWvbtG0UgD"
      },
      "source": [
        "we're going to reject the null hypothesis sice the p value is greater than 0.05. Thus there is a significant difference between the sample and the population mean with a p-value of 0.923813815922726."
      ]
    },
    {
      "cell_type": "markdown",
      "metadata": {
        "id": "Y_cmKRjr0-RO"
      },
      "source": [
        "##### **Two-sample T-test**"
      ]
    },
    {
      "cell_type": "markdown",
      "metadata": {
        "id": "EHRmyEab1O96"
      },
      "source": [
        "The two saple ttest compares the eans of two independent groups in order to determine whether there is statistical evidence that the associated population means are significantly different."
      ]
    },
    {
      "cell_type": "markdown",
      "metadata": {
        "id": "z6Jc1L3d5PY3"
      },
      "source": [
        "H0 = there is no statistical difference between the sample means and the population\n",
        "\n",
        "H1 = there is a statistical difference between the sample means and the population"
      ]
    },
    {
      "cell_type": "code",
      "metadata": {
        "id": "8Zwuos121I-A",
        "outputId": "f66d6a6a-8d96-4ea5-fb74-f99dbb2b43e0",
        "colab": {
          "base_uri": "https://localhost:8080/"
        }
      },
      "source": [
        "#carrying out the two tests for the blue cars returned and the blue cars taken\n",
        "import scipy.stats as stats\n",
        "\n",
        "blue_taken = autol['BlueCars_taken_sum']\n",
        "blue_returned = autol['BlueCars_returned_sum']\n",
        "\n",
        "_,p_value = stats.ttest_ind(a = blue_taken, b = blue_returned, equal_var=False)\n",
        "\n",
        "if p_value < 0.05:\n",
        "  print('Reject null hypothesis', p_value)\n",
        "else: \n",
        "  print('adopt the null hypothesis', p_value)"
      ],
      "execution_count": 203,
      "outputs": [
        {
          "output_type": "stream",
          "text": [
            "adopt the null hypothesis 0.8701932846861928\n"
          ],
          "name": "stdout"
        }
      ]
    },
    {
      "cell_type": "markdown",
      "metadata": {
        "id": "lnihImsG66Eu"
      },
      "source": [
        "From the results obtained there is no statistical difference between the sample mean and the population mean since the p value is greater than 0.05.Thus adopting the alternate hypothesis. with a p-value of 0.8701932846861928"
      ]
    },
    {
      "cell_type": "markdown",
      "metadata": {
        "id": "brn028kb7hNJ"
      },
      "source": [
        "#### **ii) Point estimation**"
      ]
    },
    {
      "cell_type": "code",
      "metadata": {
        "id": "0fojU90g7thg"
      },
      "source": [
        "# scipy is python library will help us use statistical formulas in our code\n",
        "import scipy.stats as stats\n",
        "import random"
      ],
      "execution_count": 204,
      "outputs": []
    },
    {
      "cell_type": "code",
      "metadata": {
        "id": "MaXBZfoJ74uA",
        "outputId": "f7708aca-284e-4467-dfc9-50db0a0647fd",
        "colab": {
          "base_uri": "https://localhost:8080/"
        }
      },
      "source": [
        "#calculating the population mean for the blue cars taken\n",
        "blue_cars_taken = autol['BlueCars_taken_sum']\n",
        "blue_cars_taken.mean()"
      ],
      "execution_count": 224,
      "outputs": [
        {
          "output_type": "execute_result",
          "data": {
            "text/plain": [
              "11919.88392857143"
            ]
          },
          "metadata": {
            "tags": []
          },
          "execution_count": 224
        }
      ]
    },
    {
      "cell_type": "code",
      "metadata": {
        "id": "qIk0aWVE89gn"
      },
      "source": [
        "#specifying the sample \n",
        "sample_blue = blue_cars_taken[1:100]"
      ],
      "execution_count": 238,
      "outputs": []
    },
    {
      "cell_type": "code",
      "metadata": {
        "id": "h-LFsfT09TSB",
        "outputId": "eae4404d-85ee-4f3d-90f7-63ef78195af4",
        "colab": {
          "base_uri": "https://localhost:8080/"
        }
      },
      "source": [
        "# sample mean \n",
        "print(sample_blue.mean())"
      ],
      "execution_count": 239,
      "outputs": [
        {
          "output_type": "stream",
          "text": [
            "11935.222222222223\n"
          ],
          "name": "stdout"
        }
      ]
    },
    {
      "cell_type": "code",
      "metadata": {
        "id": "tBPM5J2y9TvX",
        "outputId": "61a030d4-8296-4bed-89da-a50fb94ffbbc",
        "colab": {
          "base_uri": "https://localhost:8080/"
        }
      },
      "source": [
        "# calculating how much the estimated mean differs from the main mean\n",
        "blue_cars_taken.mean() - sample_blue.mean()"
      ],
      "execution_count": 240,
      "outputs": [
        {
          "output_type": "execute_result",
          "data": {
            "text/plain": [
              "-15.338293650793275"
            ]
          },
          "metadata": {
            "tags": []
          },
          "execution_count": 240
        }
      ]
    },
    {
      "cell_type": "markdown",
      "metadata": {
        "id": "fKanZgci-EHM"
      },
      "source": [
        "From this example we can see that based on a sample of 100 blue cars taken our estimator underestimates the true mean by -15.338293650793275. We can conclude that we can get a fairly accurate estimate of a large population from a fairly small subset."
      ]
    },
    {
      "cell_type": "markdown",
      "metadata": {
        "id": "dagdy3nSZdG9"
      },
      "source": [
        "### **d) non-parametric**"
      ]
    },
    {
      "cell_type": "markdown",
      "metadata": {
        "id": "F1Av5DFKZmiv"
      },
      "source": [
        "#### **Chi-squared goodness of fit**"
      ]
    },
    {
      "cell_type": "markdown",
      "metadata": {
        "id": "yETFl_WyZ1ue"
      },
      "source": [
        "H0 =  A variable follows a hypothesized distribution.\n",
        "\n",
        "H1 = A variable does not follow a hypothesized distribution."
      ]
    },
    {
      "cell_type": "code",
      "metadata": {
        "id": "ZAEWhqqGZj8C"
      },
      "source": [
        "#creating arrays of blue cars taken and blue cars returned\n",
        "taken = autol['BlueCars_taken_sum']\n",
        "returned = autol['BlueCars_returned_sum']"
      ],
      "execution_count": 247,
      "outputs": []
    },
    {
      "cell_type": "code",
      "metadata": {
        "id": "dA6uh5KdbL_n",
        "outputId": "293435d9-77fc-463e-eb4d-9bfcfde7dbee",
        "colab": {
          "base_uri": "https://localhost:8080/"
        }
      },
      "source": [
        "import scipy.stats as stats\n",
        "\n",
        "#perform Chi-Square Goodness of Fit Test\n",
        "stats.chisquare(f_obs=taken, f_exp=returned)\n"
      ],
      "execution_count": 248,
      "outputs": [
        {
          "output_type": "execute_result",
          "data": {
            "text/plain": [
              "Power_divergenceResult(statistic=97.66374146509514, pvalue=0.8128461413277058)"
            ]
          },
          "metadata": {
            "tags": []
          },
          "execution_count": 248
        }
      ]
    },
    {
      "cell_type": "markdown",
      "metadata": {
        "id": "tfrDAyTXbxf-"
      },
      "source": [
        "Since the p-value (0.8128461413277058) is not less than 0.05, we fail to reject the null hypothesis. This means we do not have sufficient evidence to say that the true distribution blue cars taken is different from the distribution of the cars returned."
      ]
    }
  ]
}